{
 "cells": [
  {
   "cell_type": "markdown",
   "id": "dbb9f242",
   "metadata": {},
   "source": [
    "<h2 style='color:brown'>1. Raise Customer Error for Negative Value</h2>"
   ]
  },
  {
   "cell_type": "code",
   "execution_count": 2,
   "id": "66bcc9d5",
   "metadata": {},
   "outputs": [],
   "source": [
    "class MyCustomError(Exception):\n",
    "    def __init__(self, message):\n",
    "        self.message = message\n",
    "        super().__init__(self.message)\n",
    "        "
   ]
  },
  {
   "cell_type": "code",
   "execution_count": 5,
   "id": "d624aced",
   "metadata": {},
   "outputs": [],
   "source": [
    "def check_value(value):\n",
    "        if value <0:\n",
    "            # MyCustomerError(\"value should be non negative integer\" is calling\n",
    "            # Class MyCustomError(Exception)\n",
    "            raise MyCustomError(\"value should be non negative integer\")\n",
    "        return value\n",
    "    "
   ]
  },
  {
   "cell_type": "code",
   "execution_count": 8,
   "id": "690d41fa",
   "metadata": {},
   "outputs": [
    {
     "name": "stdout",
     "output_type": "stream",
     "text": [
      "error: value should be non negative integer\n",
      "Exception Handling executed successfully\n"
     ]
    }
   ],
   "source": [
    "try: \n",
    "    ret = check_value(-5)\n",
    "except MyCustomError as e:\n",
    "    print(f\"error: {e}\")\n",
    "else:\n",
    "    print(ret)\n",
    "finally:\n",
    "    print(\"Exception Handling executed successfully\")"
   ]
  },
  {
   "cell_type": "code",
   "execution_count": 9,
   "id": "91fc5e87",
   "metadata": {},
   "outputs": [
    {
     "name": "stdout",
     "output_type": "stream",
     "text": [
      "5\n",
      "Exception Handling executed successfully\n"
     ]
    }
   ],
   "source": [
    "try: \n",
    "    ret = check_value(5)\n",
    "except MyCustomError as e:\n",
    "    print(f\"error: {e}\")\n",
    "else:\n",
    "    print(ret)\n",
    "finally:\n",
    "    print(\"Exception Handling executed successfully\")"
   ]
  },
  {
   "cell_type": "code",
   "execution_count": null,
   "id": "d106adaf",
   "metadata": {},
   "outputs": [],
   "source": []
  },
  {
   "cell_type": "code",
   "execution_count": null,
   "id": "dba5e229",
   "metadata": {},
   "outputs": [],
   "source": []
  },
  {
   "cell_type": "markdown",
   "id": "2995eb19",
   "metadata": {},
   "source": [
    "<h2 style='color:brown'>2. Raise Customer Error for Weight is lesser or higher than specific weight: </h2>"
   ]
  },
  {
   "cell_type": "code",
   "execution_count": 13,
   "id": "6590f0c5",
   "metadata": {},
   "outputs": [],
   "source": [
    "class WeightException(Exception):\n",
    "    def __init__(self, message):\n",
    "        #self.messages = message\n",
    "        super().__init__(message)"
   ]
  },
  {
   "cell_type": "code",
   "execution_count": 14,
   "id": "b06d6157",
   "metadata": {},
   "outputs": [],
   "source": [
    "def get_value(weight):\n",
    "    if weight > 78:\n",
    "        raise WeightException(f\"{weight} is OverWeight.\")\n",
    "    elif weight < 40:\n",
    "        raise WeightException(f\"{weight} is UnderWeight.\")\n",
    "    else:\n",
    "        return weight"
   ]
  },
  {
   "cell_type": "code",
   "execution_count": 28,
   "id": "64ac9c2e",
   "metadata": {},
   "outputs": [],
   "source": [
    "def set_value(wt):\n",
    "    try: \n",
    "        val = get_value(wt)\n",
    "    except WeightException as e:\n",
    "        print(\"\\n\",e)\n",
    "        print(\"------------------------------------------\")\n",
    "    else:\n",
    "        print(f\"\\n{val} is fine.\")\n",
    "        print(\"------------------------------------------\")\n",
    "    finally:\n",
    "        print(\"Exception Handling is working fine.\")\n",
    "        print(\"------------------------------------------\")"
   ]
  },
  {
   "cell_type": "code",
   "execution_count": 29,
   "id": "5b33d744",
   "metadata": {},
   "outputs": [
    {
     "name": "stdout",
     "output_type": "stream",
     "text": [
      "\n",
      " 20 is UnderWeight.\n",
      "------------------------------------------\n",
      "Exception Handling is working fine.\n",
      "------------------------------------------\n",
      "\n",
      " 79 is OverWeight.\n",
      "------------------------------------------\n",
      "Exception Handling is working fine.\n",
      "------------------------------------------\n"
     ]
    }
   ],
   "source": [
    "set_value(20)\n",
    "set_value(79)"
   ]
  },
  {
   "cell_type": "code",
   "execution_count": null,
   "id": "6d51a5fd",
   "metadata": {},
   "outputs": [],
   "source": []
  }
 ],
 "metadata": {
  "kernelspec": {
   "display_name": "Python 3 (ipykernel)",
   "language": "python",
   "name": "python3"
  },
  "language_info": {
   "codemirror_mode": {
    "name": "ipython",
    "version": 3
   },
   "file_extension": ".py",
   "mimetype": "text/x-python",
   "name": "python",
   "nbconvert_exporter": "python",
   "pygments_lexer": "ipython3",
   "version": "3.11.5"
  }
 },
 "nbformat": 4,
 "nbformat_minor": 5
}
