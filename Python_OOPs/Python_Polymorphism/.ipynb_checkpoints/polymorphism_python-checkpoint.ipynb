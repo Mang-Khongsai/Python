{
 "cells": [
  {
   "cell_type": "markdown",
   "id": "11f9869a",
   "metadata": {},
   "source": [
    "<h1 style='color:black' align=\"center\">Polymorphism in Python </h1>"
   ]
  },
  {
   "cell_type": "markdown",
   "id": "ff848c32",
   "metadata": {},
   "source": [
    "<h2 style='color:red'>1. Example of inbuilt polymorphic functions:</h2>"
   ]
  },
  {
   "cell_type": "code",
   "execution_count": 7,
   "id": "9eb0d0c6",
   "metadata": {},
   "outputs": [
    {
     "name": "stdout",
     "output_type": "stream",
     "text": [
      "5\n"
     ]
    }
   ],
   "source": [
    "print(len(\"Hello\"))"
   ]
  },
  {
   "cell_type": "code",
   "execution_count": 8,
   "id": "ab6916ed",
   "metadata": {},
   "outputs": [
    {
     "data": {
      "text/plain": [
       "4"
      ]
     },
     "execution_count": 8,
     "metadata": {},
     "output_type": "execute_result"
    }
   ],
   "source": [
    "len([1,2,3,4])"
   ]
  },
  {
   "cell_type": "code",
   "execution_count": 9,
   "id": "84a08e95",
   "metadata": {},
   "outputs": [
    {
     "data": {
      "text/plain": [
       "4"
      ]
     },
     "execution_count": 9,
     "metadata": {},
     "output_type": "execute_result"
    }
   ],
   "source": [
    "len((2,3,4,5))"
   ]
  },
  {
   "cell_type": "code",
   "execution_count": 11,
   "id": "c2765458",
   "metadata": {},
   "outputs": [
    {
     "data": {
      "text/plain": [
       "3"
      ]
     },
     "execution_count": 11,
     "metadata": {},
     "output_type": "execute_result"
    }
   ],
   "source": [
    "len({'one':[1,'1\\'s'], 'two': 2, 'three':3})"
   ]
  },
  {
   "cell_type": "markdown",
   "id": "393587d6",
   "metadata": {},
   "source": [
    "<h2 style='color:red'>2. Examples of user-defined polymorphic functions:</h2>"
   ]
  },
  {
   "cell_type": "code",
   "execution_count": 2,
   "id": "7d43e733",
   "metadata": {},
   "outputs": [],
   "source": [
    "def add(v, w, x=0, y=0, z=0):\n",
    "    return v+w+x+y+z"
   ]
  },
  {
   "cell_type": "code",
   "execution_count": 3,
   "id": "0a65a5f7",
   "metadata": {},
   "outputs": [
    {
     "data": {
      "text/plain": [
       "3"
      ]
     },
     "execution_count": 3,
     "metadata": {},
     "output_type": "execute_result"
    }
   ],
   "source": [
    "add(1,2)"
   ]
  },
  {
   "cell_type": "code",
   "execution_count": 4,
   "id": "13f51e50",
   "metadata": {},
   "outputs": [
    {
     "data": {
      "text/plain": [
       "6"
      ]
     },
     "execution_count": 4,
     "metadata": {},
     "output_type": "execute_result"
    }
   ],
   "source": [
    "add(1,2,3)"
   ]
  },
  {
   "cell_type": "code",
   "execution_count": 5,
   "id": "38502feb",
   "metadata": {},
   "outputs": [
    {
     "data": {
      "text/plain": [
       "10"
      ]
     },
     "execution_count": 5,
     "metadata": {},
     "output_type": "execute_result"
    }
   ],
   "source": [
    "add(1,2,3,4)"
   ]
  },
  {
   "cell_type": "code",
   "execution_count": 6,
   "id": "a83f8a62",
   "metadata": {},
   "outputs": [
    {
     "data": {
      "text/plain": [
       "15"
      ]
     },
     "execution_count": 6,
     "metadata": {},
     "output_type": "execute_result"
    }
   ],
   "source": [
    "add(1,2,3,4,5)"
   ]
  },
  {
   "cell_type": "markdown",
   "id": "98bd78fb",
   "metadata": {},
   "source": [
    "<h2 style='color:red'>3. Polymorphism with class methods:</h2>"
   ]
  },
  {
   "cell_type": "code",
   "execution_count": 12,
   "id": "7bac1656",
   "metadata": {},
   "outputs": [],
   "source": [
    "class India:\n",
    "    def capital(self):\n",
    "        print(\"Delhi is the capital of India\")\n",
    "        \n",
    "    def continent(self):\n",
    "        print(\"India is in Asia\")\n",
    "\n",
    "        \n",
    "class USA:\n",
    "    def capital(self):\n",
    "        print(\"Washington DC is the capital of USA\")\n",
    "    \n",
    "    def continent(self):\n",
    "        print(\"USA is in North America\")"
   ]
  },
  {
   "cell_type": "code",
   "execution_count": 13,
   "id": "eb947cec",
   "metadata": {},
   "outputs": [],
   "source": [
    "# create objects/instances for Class India and USA\n",
    "ind = India()\n",
    "usa = USA()"
   ]
  },
  {
   "cell_type": "code",
   "execution_count": 14,
   "id": "5dc2f563",
   "metadata": {},
   "outputs": [
    {
     "name": "stdout",
     "output_type": "stream",
     "text": [
      "Delhi is the capital of India\n",
      "India is in Asia\n",
      "\n",
      "Washington DC is the capital of USA\n",
      "USA is in North America\n",
      "\n"
     ]
    }
   ],
   "source": [
    "for obj in (ind, usa):\n",
    "    obj.capital()\n",
    "    obj.continent()\n",
    "    print()"
   ]
  },
  {
   "cell_type": "markdown",
   "id": "aeaa6e54",
   "metadata": {},
   "source": [
    "<h2 style='color:red'>4. Polymorphism with Inheritance:</h2>\n",
    "<h3 tyle='color:black'> Method overriding </h3>\n",
    "\n",
    "### **Inheriting one method from base Class and overriding the other method from its own Class.**"
   ]
  },
  {
   "cell_type": "code",
   "execution_count": 27,
   "id": "c410a5fd",
   "metadata": {},
   "outputs": [],
   "source": [
    "class Animal:\n",
    "    def __init__(self, name):\n",
    "        self.name = name\n",
    "    def intro(self):\n",
    "        print(self.name,\" is one the classes of Animal.\")\n",
    "        \n",
    "class Dog(Animal):\n",
    "    def sound(self):\n",
    "        print(self.name,\" says Bow.. Bow..\")\n",
    "        \n",
    "class Cat(Animal):\n",
    "    def sound(self):\n",
    "        print(self.name,\" says Meow.. Meow..\")\n",
    "\n",
    "class Cow(Animal):\n",
    "    def sound(self):\n",
    "        print(self.name,\" says Moo.. Moo..\")"
   ]
  },
  {
   "cell_type": "code",
   "execution_count": 28,
   "id": "92fdaa50",
   "metadata": {},
   "outputs": [],
   "source": [
    "# create object for each class\n",
    "dog = Dog('Dog')\n",
    "cat = Cat('Cat')\n",
    "cow = Cow('Cow')"
   ]
  },
  {
   "cell_type": "code",
   "execution_count": 29,
   "id": "1be49ff6",
   "metadata": {},
   "outputs": [
    {
     "name": "stdout",
     "output_type": "stream",
     "text": [
      "Dog  is one the classes of Animal.\n",
      "Dog  says Bow.. Bow..\n",
      "\n",
      "Cat  is one the classes of Animal.\n",
      "Cat  says Meow.. Meow..\n",
      "\n",
      "Cow  is one the classes of Animal.\n",
      "Cow  says Moo.. Moo..\n"
     ]
    }
   ],
   "source": [
    "# dog\n",
    "dog.intro()\n",
    "dog.sound()\n",
    "\n",
    "print()\n",
    "# Cat \n",
    "cat.intro()\n",
    "cat.sound()\n",
    "\n",
    "print()\n",
    "# cow\n",
    "cow.intro()\n",
    "cow.sound()"
   ]
  },
  {
   "cell_type": "markdown",
   "id": "45548a47",
   "metadata": {},
   "source": [
    "<h2 style='color:red'>5. Polymorphism with a Function and objects:</h2>"
   ]
  },
  {
   "cell_type": "code",
   "execution_count": 34,
   "id": "9d822cd5",
   "metadata": {},
   "outputs": [],
   "source": [
    "# type 1:\n",
    "def print_functions():\n",
    "    for x in [Dog(\"Dog\"), Cat(\"Cat\"), Cow(\"Cow\")]:\n",
    "        x.intro()\n",
    "        x.sound()\n",
    "        print()"
   ]
  },
  {
   "cell_type": "code",
   "execution_count": 35,
   "id": "eef53c07",
   "metadata": {},
   "outputs": [
    {
     "name": "stdout",
     "output_type": "stream",
     "text": [
      "Dog  is one the classes of Animal.\n",
      "Dog  says Bow.. Bow..\n",
      "\n",
      "Cat  is one the classes of Animal.\n",
      "Cat  says Meow.. Meow..\n",
      "\n",
      "Cow  is one the classes of Animal.\n",
      "Cow  says Moo.. Moo..\n",
      "\n"
     ]
    }
   ],
   "source": [
    "print_functions()"
   ]
  },
  {
   "cell_type": "code",
   "execution_count": 36,
   "id": "94a19026",
   "metadata": {},
   "outputs": [],
   "source": [
    "# type 2: passing parameters into the function\n",
    "def prints(obj):\n",
    "    obj.intro()\n",
    "    obj.sound()\n",
    "    print()"
   ]
  },
  {
   "cell_type": "code",
   "execution_count": 37,
   "id": "e52e38fb",
   "metadata": {},
   "outputs": [
    {
     "name": "stdout",
     "output_type": "stream",
     "text": [
      "Dog  is one the classes of Animal.\n",
      "Dog  says Bow.. Bow..\n",
      "\n"
     ]
    }
   ],
   "source": [
    "dog_obj = Dog(\"Dog\")\n",
    "\n",
    "prints(dog_obj)"
   ]
  },
  {
   "cell_type": "code",
   "execution_count": 38,
   "id": "fc532fdc",
   "metadata": {},
   "outputs": [
    {
     "name": "stdout",
     "output_type": "stream",
     "text": [
      "cat  is one the classes of Animal.\n",
      "cat  says Meow.. Meow..\n",
      "\n"
     ]
    }
   ],
   "source": [
    "cat_obj = Cat('cat')\n",
    "\n",
    "prints(cat_obj)"
   ]
  },
  {
   "cell_type": "code",
   "execution_count": null,
   "id": "4fe35eaf",
   "metadata": {},
   "outputs": [],
   "source": []
  }
 ],
 "metadata": {
  "kernelspec": {
   "display_name": "Python 3 (ipykernel)",
   "language": "python",
   "name": "python3"
  },
  "language_info": {
   "codemirror_mode": {
    "name": "ipython",
    "version": 3
   },
   "file_extension": ".py",
   "mimetype": "text/x-python",
   "name": "python",
   "nbconvert_exporter": "python",
   "pygments_lexer": "ipython3",
   "version": "3.11.5"
  }
 },
 "nbformat": 4,
 "nbformat_minor": 5
}
