{
 "cells": [
  {
   "cell_type": "markdown",
   "id": "d649080f",
   "metadata": {},
   "source": [
    "<h2 style='color:black' align='center'> Type: 1 </h2>"
   ]
  },
  {
   "cell_type": "code",
   "execution_count": 6,
   "id": "59da844d",
   "metadata": {},
   "outputs": [],
   "source": [
    "f = open(\"demofile3.txt\", \"w\")\n",
    "f.write(\"Woops! I have deleted the content!\")\n",
    "f.write(\"\\nHello How are you.\")\n",
    "f.close()"
   ]
  },
  {
   "cell_type": "code",
   "execution_count": 7,
   "id": "e124ec23",
   "metadata": {},
   "outputs": [
    {
     "name": "stdout",
     "output_type": "stream",
     "text": [
      "Woops! I have deleted the content!\n",
      "Hello How are you.\n"
     ]
    }
   ],
   "source": [
    "#open and read the file after the overwriting:\n",
    "f = open(\"demofile3.txt\", \"r\")\n",
    "print(f.read())\n",
    "f.close()"
   ]
  },
  {
   "cell_type": "code",
   "execution_count": 8,
   "id": "74964e74",
   "metadata": {},
   "outputs": [
    {
     "name": "stdout",
     "output_type": "stream",
     "text": [
      "Woops! I have deleted the content!\n",
      "\n"
     ]
    }
   ],
   "source": [
    "#open and read the file after the overwriting:\n",
    "f = open(\"demofile3.txt\", \"r\")\n",
    "print(f.readline())\n",
    "f.close()"
   ]
  },
  {
   "cell_type": "code",
   "execution_count": 9,
   "id": "c745c7a4",
   "metadata": {},
   "outputs": [
    {
     "name": "stdout",
     "output_type": "stream",
     "text": [
      "['Woops! I have deleted the content!\\n', 'Hello How are you.']\n"
     ]
    }
   ],
   "source": [
    "#open and read the file after the overwriting:\n",
    "f = open(\"demofile3.txt\", \"r\")\n",
    "print(f.readlines())\n",
    "f.close()"
   ]
  },
  {
   "cell_type": "code",
   "execution_count": null,
   "id": "46b3b311",
   "metadata": {},
   "outputs": [],
   "source": []
  },
  {
   "cell_type": "markdown",
   "id": "cfbf09fa",
   "metadata": {},
   "source": [
    "<h2 style='color:black' align='center'> TYPE: 2</h2>"
   ]
  },
  {
   "cell_type": "code",
   "execution_count": 12,
   "id": "f84b44dd",
   "metadata": {},
   "outputs": [],
   "source": [
    "with open(\"demo.txt\", 'w') as g:\n",
    "    g.write(\"One\\n\")\n",
    "    g.write(\"Two\")\n",
    "    g.close()"
   ]
  },
  {
   "cell_type": "code",
   "execution_count": 19,
   "id": "c6b4c6e9",
   "metadata": {},
   "outputs": [
    {
     "name": "stdout",
     "output_type": "stream",
     "text": [
      "1 One\n",
      "Two\n",
      "1 \n",
      "\n",
      "2 One\n",
      "\n",
      "2 Two\n",
      "\n",
      "3 ['One\\n', 'Two']\n",
      "3 []\n"
     ]
    }
   ],
   "source": [
    "with open(\"demo.txt\", 'r') as h:\n",
    "    print('1',h.read())\n",
    "    cont = h.read()\n",
    "    print('1',cont)\n",
    "    print()\n",
    "    h.close()\n",
    "    \n",
    "with open('demo.txt', 'r') as h:\n",
    "    print('2',h.readline())\n",
    "    contline = h.readline()\n",
    "    print('2',contline)\n",
    "    print()\n",
    "    h.close()\n",
    "\n",
    "with open('demo.txt', 'r') as h:\n",
    "    print('3',h.readlines())\n",
    "    contlines = h.readlines()\n",
    "    print('3',contlines)\n",
    "    h.close()\n",
    "    "
   ]
  },
  {
   "cell_type": "code",
   "execution_count": null,
   "id": "a1e0d5d8",
   "metadata": {},
   "outputs": [],
   "source": []
  }
 ],
 "metadata": {
  "kernelspec": {
   "display_name": "Python 3 (ipykernel)",
   "language": "python",
   "name": "python3"
  },
  "language_info": {
   "codemirror_mode": {
    "name": "ipython",
    "version": 3
   },
   "file_extension": ".py",
   "mimetype": "text/x-python",
   "name": "python",
   "nbconvert_exporter": "python",
   "pygments_lexer": "ipython3",
   "version": "3.11.5"
  }
 },
 "nbformat": 4,
 "nbformat_minor": 5
}
