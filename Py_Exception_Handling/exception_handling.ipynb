{
 "cells": [
  {
   "cell_type": "code",
   "execution_count": 4,
   "id": "ceb94e9c",
   "metadata": {},
   "outputs": [
    {
     "name": "stdout",
     "output_type": "stream",
     "text": [
      "enter number: 20\n",
      "result is:  10.75\n",
      "Exception Handling Executed Properly....\n"
     ]
    }
   ],
   "source": [
    "try:\n",
    "    num = int(input(\"enter number: \"))\n",
    "    result = 215/num\n",
    "except ValueError:\n",
    "    print(\"Error: Invalid input. Please enter a valid number...\")\n",
    "except ZeroDivisionError as e:\n",
    "    print(f\"Value cannot be divided by zero ie {e}...\")\n",
    "except Exception as e:\n",
    "    print(\"Error is: {}...\".format(e))\n",
    "else:\n",
    "    print(\"result is: \",result)\n",
    "finally:\n",
    "    print(\"Exception Handling Executed Properly....\")"
   ]
  },
  {
   "cell_type": "code",
   "execution_count": 16,
   "id": "ff71cd49",
   "metadata": {},
   "outputs": [],
   "source": [
    "def exception_handling():\n",
    "    try:\n",
    "        num = int(input(\"enter number: \"))\n",
    "        result = 215/num\n",
    "    except ValueError:\n",
    "        print(\"---------------------------------------\\nError: Invalid input. Please enter a valid number...\\n---------------------------------------\")\n",
    "    except ZeroDivisionError as e:\n",
    "        print(f\"---------------------------------------\\nError: Value cannot be divided by zero ie {e}...\\n---------------------------------------\")\n",
    "    except Exception as e:\n",
    "        print(\"---------------------------------------\\n Error: {}...\\n---------------------------------------\".format(e))\n",
    "    else:\n",
    "        print(\"result is: \",result)\n",
    "    finally:\n",
    "        print(\"Exception Handling Executed Safely....\")"
   ]
  },
  {
   "cell_type": "code",
   "execution_count": 17,
   "id": "9db4316a",
   "metadata": {},
   "outputs": [
    {
     "name": "stdout",
     "output_type": "stream",
     "text": [
      "enter number: 0\n",
      "---------------------------------------\n",
      "Error: Value cannot be divided by zero ie division by zero...\n",
      "---------------------------------------\n",
      "Exception Handling Executed Safely....\n"
     ]
    }
   ],
   "source": [
    "exception_handling()"
   ]
  },
  {
   "cell_type": "code",
   "execution_count": 18,
   "id": "2cd36e9d",
   "metadata": {},
   "outputs": [
    {
     "name": "stdout",
     "output_type": "stream",
     "text": [
      "enter number: abc\n",
      "---------------------------------------\n",
      "Error: Invalid input. Please enter a valid number...\n",
      "---------------------------------------\n",
      "Exception Handling Executed Safely....\n"
     ]
    }
   ],
   "source": [
    "exception_handling()"
   ]
  },
  {
   "cell_type": "code",
   "execution_count": 19,
   "id": "9a3034a1",
   "metadata": {},
   "outputs": [
    {
     "name": "stdout",
     "output_type": "stream",
     "text": [
      "enter number: 20 30\n",
      "---------------------------------------\n",
      "Error: Invalid input. Please enter a valid number...\n",
      "---------------------------------------\n",
      "Exception Handling Executed Safely....\n"
     ]
    }
   ],
   "source": [
    "exception_handling()"
   ]
  },
  {
   "cell_type": "code",
   "execution_count": null,
   "id": "fe5f0b6a",
   "metadata": {},
   "outputs": [],
   "source": []
  }
 ],
 "metadata": {
  "kernelspec": {
   "display_name": "Python 3 (ipykernel)",
   "language": "python",
   "name": "python3"
  },
  "language_info": {
   "codemirror_mode": {
    "name": "ipython",
    "version": 3
   },
   "file_extension": ".py",
   "mimetype": "text/x-python",
   "name": "python",
   "nbconvert_exporter": "python",
   "pygments_lexer": "ipython3",
   "version": "3.11.5"
  }
 },
 "nbformat": 4,
 "nbformat_minor": 5
}
